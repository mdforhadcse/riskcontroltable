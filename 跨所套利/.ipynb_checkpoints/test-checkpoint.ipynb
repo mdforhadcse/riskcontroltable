{
 "cells": [
  {
   "cell_type": "code",
   "execution_count": 1,
   "metadata": {},
   "outputs": [
    {
     "ename": "ModuleNotFoundError",
     "evalue": "No module named 'ccxt'",
     "output_type": "error",
     "traceback": [
      "\u001b[0;31m---------------------------------------------------------------------------\u001b[0m",
      "\u001b[0;31mModuleNotFoundError\u001b[0m                       Traceback (most recent call last)",
      "\u001b[0;32m/var/folders/hp/265srph925n8mbmg8mlh2y300000gn/T/ipykernel_7773/2483158737.py\u001b[0m in \u001b[0;36m<module>\u001b[0;34m\u001b[0m\n\u001b[1;32m      1\u001b[0m \u001b[0;32mfrom\u001b[0m \u001b[0mconfig\u001b[0m \u001b[0;32mimport\u001b[0m \u001b[0maccount_list\u001b[0m\u001b[0;34m,\u001b[0m \u001b[0mproxies\u001b[0m\u001b[0;34m\u001b[0m\u001b[0;34m\u001b[0m\u001b[0m\n\u001b[0;32m----> 2\u001b[0;31m \u001b[0;32mfrom\u001b[0m \u001b[0mexchanges\u001b[0m \u001b[0;32mimport\u001b[0m \u001b[0;34m*\u001b[0m\u001b[0;34m\u001b[0m\u001b[0;34m\u001b[0m\u001b[0m\n\u001b[0m\u001b[1;32m      3\u001b[0m \u001b[0;32mimport\u001b[0m \u001b[0mccxt\u001b[0m\u001b[0;34m\u001b[0m\u001b[0;34m\u001b[0m\u001b[0m\n\u001b[1;32m      4\u001b[0m \u001b[0;32mimport\u001b[0m \u001b[0mpandas\u001b[0m \u001b[0;32mas\u001b[0m \u001b[0mpd\u001b[0m\u001b[0;34m\u001b[0m\u001b[0;34m\u001b[0m\u001b[0m\n\u001b[1;32m      5\u001b[0m \u001b[0;32mimport\u001b[0m \u001b[0mtime\u001b[0m\u001b[0;34m\u001b[0m\u001b[0;34m\u001b[0m\u001b[0m\n",
      "\u001b[0;32m~/MYDRIVE/OfficeTask/跨所套利/exchanges/__init__.py\u001b[0m in \u001b[0;36m<module>\u001b[0;34m\u001b[0m\n\u001b[0;32m----> 1\u001b[0;31m \u001b[0;32mfrom\u001b[0m \u001b[0mexchanges\u001b[0m\u001b[0;34m.\u001b[0m\u001b[0mbinance\u001b[0m \u001b[0;32mimport\u001b[0m \u001b[0mBinance\u001b[0m\u001b[0;34m\u001b[0m\u001b[0;34m\u001b[0m\u001b[0m\n\u001b[0m\u001b[1;32m      2\u001b[0m \u001b[0;32mfrom\u001b[0m \u001b[0mexchanges\u001b[0m\u001b[0;34m.\u001b[0m\u001b[0mokx\u001b[0m \u001b[0;32mimport\u001b[0m \u001b[0mOkx\u001b[0m\u001b[0;34m\u001b[0m\u001b[0;34m\u001b[0m\u001b[0m\n\u001b[1;32m      3\u001b[0m \u001b[0;32mfrom\u001b[0m \u001b[0mexchanges\u001b[0m\u001b[0;34m.\u001b[0m\u001b[0mftx\u001b[0m \u001b[0;32mimport\u001b[0m \u001b[0mFTX\u001b[0m\u001b[0;34m\u001b[0m\u001b[0;34m\u001b[0m\u001b[0m\n\u001b[1;32m      4\u001b[0m \u001b[0;32mfrom\u001b[0m \u001b[0mexchanges\u001b[0m\u001b[0;34m.\u001b[0m\u001b[0mbybit\u001b[0m \u001b[0;32mimport\u001b[0m \u001b[0mBybit\u001b[0m\u001b[0;34m\u001b[0m\u001b[0;34m\u001b[0m\u001b[0m\n\u001b[1;32m      5\u001b[0m \u001b[0;32mfrom\u001b[0m \u001b[0mexchanges\u001b[0m\u001b[0;34m.\u001b[0m\u001b[0mbitget\u001b[0m \u001b[0;32mimport\u001b[0m \u001b[0mBitget\u001b[0m\u001b[0;34m\u001b[0m\u001b[0;34m\u001b[0m\u001b[0m\n",
      "\u001b[0;32m~/MYDRIVE/OfficeTask/跨所套利/exchanges/binance.py\u001b[0m in \u001b[0;36m<module>\u001b[0;34m\u001b[0m\n\u001b[0;32m----> 1\u001b[0;31m \u001b[0;32mimport\u001b[0m \u001b[0mccxt\u001b[0m\u001b[0;34m\u001b[0m\u001b[0;34m\u001b[0m\u001b[0m\n\u001b[0m\u001b[1;32m      2\u001b[0m \u001b[0;32mimport\u001b[0m \u001b[0mpandas\u001b[0m \u001b[0;32mas\u001b[0m \u001b[0mpd\u001b[0m\u001b[0;34m\u001b[0m\u001b[0;34m\u001b[0m\u001b[0m\n\u001b[1;32m      3\u001b[0m \u001b[0;34m\u001b[0m\u001b[0m\n\u001b[1;32m      4\u001b[0m \u001b[0;34m\u001b[0m\u001b[0m\n\u001b[1;32m      5\u001b[0m \u001b[0;32mclass\u001b[0m \u001b[0mBinance\u001b[0m\u001b[0;34m(\u001b[0m\u001b[0mccxt\u001b[0m\u001b[0;34m.\u001b[0m\u001b[0mbinance\u001b[0m\u001b[0;34m)\u001b[0m\u001b[0;34m:\u001b[0m\u001b[0;34m\u001b[0m\u001b[0;34m\u001b[0m\u001b[0m\n",
      "\u001b[0;31mModuleNotFoundError\u001b[0m: No module named 'ccxt'"
     ]
    }
   ],
   "source": [
    "from config import account_list, proxies\n",
    "from exchanges import *\n",
    "import ccxt\n",
    "import pandas as pd\n",
    "import time\n",
    "import warnings\n",
    "import schedule\n",
    "from notify import notifier\n",
    "from notify import Platform\n",
    "import copy\n",
    "from pprint import pprint\n",
    "\n",
    "redListed = pd.read_csv('redListed.csv')\n",
    "whiteListed = pd.read_csv('whiteListed.csv')\n",
    "# import deleted the packages\n",
    "\n",
    "warnings.filterwarnings('ignore')  # warning will be ignored"
   ]
  },
  {
   "cell_type": "code",
   "execution_count": 31,
   "metadata": {},
   "outputs": [
    {
     "name": "stdout",
     "output_type": "stream",
     "text": [
      "KuCoin\n",
      "CoinEx\n",
      "Binance\n",
      "Binance\n",
      "OKX\n",
      "Bybit\n",
      "Bitget\n",
      "Gate.io\n",
      "FTX\n"
     ]
    }
   ],
   "source": [
    "accountsPosition = pd.DataFrame()  # declare a variable to store accountsPosition in the panda dataframe\n",
    "exchangesMassage = []  # a message list\n",
    "for account in copy.deepcopy(account_list):  # traverse deleted the exchanges using api that describe in account_list on config.py\n",
    "    # print(account)\n",
    "    exchange_class = account.pop('exchange')  # pop exchange info from account and store it exchange_class\n",
    "    # print(exchange_class)\n",
    "    exchange = eval(exchange_class)(account)  # checking the expression between exchange_class and account\n",
    "    print(exchange)\n",
    "\n",
    "accountPosition = exchange.fetch_swap_postion()  # get the exchange position for every exchange from exchange class\n",
    "accountSwapAsset = exchange.fetch_swap_asset()"
   ]
  },
  {
   "cell_type": "code",
   "execution_count": 33,
   "metadata": {},
   "outputs": [
    {
     "name": "stdout",
     "output_type": "stream",
     "text": [
      "FTX\n"
     ]
    }
   ],
   "source": [
    "    print(exchange)"
   ]
  },
  {
   "cell_type": "code",
   "execution_count": 21,
   "metadata": {},
   "outputs": [
    {
     "data": {
      "text/plain": [
       "32634.833951056553"
      ]
     },
     "execution_count": 21,
     "metadata": {},
     "output_type": "execute_result"
    }
   ],
   "source": [
    "accountSwapAsset"
   ]
  },
  {
   "cell_type": "code",
   "execution_count": 27,
   "metadata": {},
   "outputs": [],
   "source": [
    "exchange = eval(exchange_class)(account)"
   ]
  },
  {
   "cell_type": "code",
   "execution_count": 29,
   "metadata": {},
   "outputs": [
    {
     "name": "stdout",
     "output_type": "stream",
     "text": [
      "FTX\n"
     ]
    }
   ],
   "source": [
    "print(exchange)"
   ]
  },
  {
   "cell_type": "code",
   "execution_count": 8,
   "metadata": {},
   "outputs": [
    {
     "name": "stdout",
     "output_type": "stream",
     "text": [
      "<class 'ccxt.binance.binance'>\n"
     ]
    }
   ],
   "source": [
    "pprint(ccxt.exchanges)"
   ]
  },
  {
   "cell_type": "code",
   "execution_count": 10,
   "metadata": {},
   "outputs": [
    {
     "name": "stdout",
     "output_type": "stream",
     "text": [
      "Binance\n"
     ]
    }
   ],
   "source": [
    "exchange = ccxt.binance()\n",
    "print(exchange)"
   ]
  },
  {
   "cell_type": "code",
   "execution_count": 16,
   "metadata": {},
   "outputs": [
    {
     "name": "stderr",
     "output_type": "stream",
     "text": [
      "IOPub data rate exceeded.\n",
      "The notebook server will temporarily stop sending output\n",
      "to the client in order to avoid crashing it.\n",
      "To change this limit, set the config variable\n",
      "`--NotebookApp.iopub_data_rate_limit`.\n",
      "\n",
      "Current values:\n",
      "NotebookApp.iopub_data_rate_limit=1000000.0 (bytes/sec)\n",
      "NotebookApp.rate_limit_window=3.0 (secs)\n",
      "\n"
     ]
    }
   ],
   "source": [
    "markets = exchange.load_markets()\n",
    "print(markets)"
   ]
  },
  {
   "cell_type": "code",
   "execution_count": null,
   "metadata": {},
   "outputs": [],
   "source": []
  }
 ],
 "metadata": {
  "kernelspec": {
   "display_name": "Python 3 (ipykernel)",
   "language": "python",
   "name": "python3"
  },
  "language_info": {
   "codemirror_mode": {
    "name": "ipython",
    "version": 3
   },
   "file_extension": ".py",
   "mimetype": "text/x-python",
   "name": "python",
   "nbconvert_exporter": "python",
   "pygments_lexer": "ipython3",
   "version": "3.9.7"
  }
 },
 "nbformat": 4,
 "nbformat_minor": 1
}
